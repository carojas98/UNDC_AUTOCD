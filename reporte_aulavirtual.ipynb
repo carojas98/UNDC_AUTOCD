{
 "cells": [
  {
   "cell_type": "code",
   "execution_count": 1,
   "id": "4635fd20-4d08-4cf7-98c5-e595f8a06071",
   "metadata": {},
   "outputs": [
    {
     "data": {
      "text/html": [
       "<div>\n",
       "<style scoped>\n",
       "    .dataframe tbody tr th:only-of-type {\n",
       "        vertical-align: middle;\n",
       "    }\n",
       "\n",
       "    .dataframe tbody tr th {\n",
       "        vertical-align: top;\n",
       "    }\n",
       "\n",
       "    .dataframe thead th {\n",
       "        text-align: right;\n",
       "    }\n",
       "</style>\n",
       "<table border=\"1\" class=\"dataframe\">\n",
       "  <thead>\n",
       "    <tr style=\"text-align: right;\">\n",
       "      <th></th>\n",
       "      <th>URL</th>\n",
       "    </tr>\n",
       "  </thead>\n",
       "  <tbody>\n",
       "    <tr>\n",
       "      <th>0</th>\n",
       "      <td>https://aula.undc.edu.pe/course/view.php?id=1470</td>\n",
       "    </tr>\n",
       "    <tr>\n",
       "      <th>1</th>\n",
       "      <td>https://aula.undc.edu.pe/course/view.php?id=1471</td>\n",
       "    </tr>\n",
       "    <tr>\n",
       "      <th>2</th>\n",
       "      <td>https://aula.undc.edu.pe/course/view.php?id=1472</td>\n",
       "    </tr>\n",
       "    <tr>\n",
       "      <th>3</th>\n",
       "      <td>https://aula.undc.edu.pe/course/view.php?id=1473</td>\n",
       "    </tr>\n",
       "    <tr>\n",
       "      <th>4</th>\n",
       "      <td>https://aula.undc.edu.pe/course/view.php?id=1474</td>\n",
       "    </tr>\n",
       "  </tbody>\n",
       "</table>\n",
       "</div>"
      ],
      "text/plain": [
       "                                                URL\n",
       "0  https://aula.undc.edu.pe/course/view.php?id=1470\n",
       "1  https://aula.undc.edu.pe/course/view.php?id=1471\n",
       "2  https://aula.undc.edu.pe/course/view.php?id=1472\n",
       "3  https://aula.undc.edu.pe/course/view.php?id=1473\n",
       "4  https://aula.undc.edu.pe/course/view.php?id=1474"
      ]
     },
     "execution_count": 1,
     "metadata": {},
     "output_type": "execute_result"
    }
   ],
   "source": [
    "import pandas as pd\n",
    "\n",
    "# Ruta al Excel\n",
    "ruta_excel = \"datos.xlsx\"  # Asegúrate de que esté en la misma carpeta del notebook\n",
    "df = pd.read_excel(ruta_excel)\n",
    "\n",
    "# Mostrar la tabla en Jupyter\n",
    "df.head()  # Muestra las primeras filas; puedes usar df si quieres ver todo"
   ]
  },
  {
   "cell_type": "code",
   "execution_count": 2,
   "id": "700d9886-77a0-404f-a211-b39b169ae220",
   "metadata": {
    "scrolled": true
   },
   "outputs": [
    {
     "name": "stdout",
     "output_type": "stream",
     "text": [
      "🔗 Abriendo: https://aula.undc.edu.pe/course/view.php?id=1470\n",
      "✅ Guardado: C:\\agronomia_2025\\reportes_aulavirtual\\reporte_1.pdf\n",
      "🔗 Abriendo: https://aula.undc.edu.pe/course/view.php?id=1471\n",
      "✅ Guardado: C:\\agronomia_2025\\reportes_aulavirtual\\reporte_2.pdf\n",
      "🔗 Abriendo: https://aula.undc.edu.pe/course/view.php?id=1472\n",
      "✅ Guardado: C:\\agronomia_2025\\reportes_aulavirtual\\reporte_3.pdf\n",
      "🔗 Abriendo: https://aula.undc.edu.pe/course/view.php?id=1473\n",
      "✅ Guardado: C:\\agronomia_2025\\reportes_aulavirtual\\reporte_4.pdf\n",
      "🔗 Abriendo: https://aula.undc.edu.pe/course/view.php?id=1474\n",
      "✅ Guardado: C:\\agronomia_2025\\reportes_aulavirtual\\reporte_5.pdf\n",
      "🔗 Abriendo: https://aula.undc.edu.pe/course/view.php?id=1475\n",
      "✅ Guardado: C:\\agronomia_2025\\reportes_aulavirtual\\reporte_6.pdf\n",
      "🔗 Abriendo: https://aula.undc.edu.pe/course/view.php?id=1476\n",
      "✅ Guardado: C:\\agronomia_2025\\reportes_aulavirtual\\reporte_7.pdf\n",
      "🔗 Abriendo: https://aula.undc.edu.pe/course/view.php?id=1477\n",
      "✅ Guardado: C:\\agronomia_2025\\reportes_aulavirtual\\reporte_8.pdf\n",
      "🔗 Abriendo: https://aula.undc.edu.pe/course/view.php?id=1478\n",
      "✅ Guardado: C:\\agronomia_2025\\reportes_aulavirtual\\reporte_9.pdf\n",
      "🔗 Abriendo: https://aula.undc.edu.pe/course/view.php?id=1479\n",
      "✅ Guardado: C:\\agronomia_2025\\reportes_aulavirtual\\reporte_10.pdf\n"
     ]
    }
   ],
   "source": [
    "import pandas as pd\n",
    "import os\n",
    "import base64\n",
    "import time\n",
    "from selenium import webdriver\n",
    "from selenium.webdriver.chrome.service import Service\n",
    "from selenium.webdriver.chrome.options import Options\n",
    "\n",
    "# 📄 Leer enlaces desde Excel\n",
    "df = pd.read_excel(\"datos.xlsx\")\n",
    "urls = df.iloc[:, 0].dropna().tolist()\n",
    "\n",
    "# 📁 Carpeta de destino\n",
    "output_folder = r\"C:\\agronomia_2025\\reportes_aulavirtual\"\n",
    "os.makedirs(output_folder, exist_ok=True)\n",
    "\n",
    "# 🧩 Conexión al Chrome ya abierto (con puerto 9222)\n",
    "options = Options()\n",
    "options.debugger_address = \"127.0.0.1:9222\"\n",
    "\n",
    "driver_path = r\"C:\\chromedriver-win64\\chromedriver.exe\"\n",
    "service = Service(executable_path=driver_path)\n",
    "driver = webdriver.Chrome(service=service, options=options)\n",
    "\n",
    "# 🔁 Recorrer URLs, abrir y generar PDF\n",
    "for idx, url in enumerate(urls):\n",
    "    try:\n",
    "        print(f\"🔗 Abriendo: {url}\")\n",
    "        driver.get(url)\n",
    "        time.sleep(5)  # Ajusta según la velocidad de carga\n",
    "\n",
    "        result = driver.execute_cdp_cmd(\"Page.printToPDF\", {\"printBackground\": True})\n",
    "        pdf_data = base64.b64decode(result[\"data\"])\n",
    "\n",
    "        pdf_name = f\"reporte_{idx+1}.pdf\"\n",
    "        pdf_path = os.path.join(output_folder, pdf_name)\n",
    "\n",
    "        with open(pdf_path, \"wb\") as f:\n",
    "            f.write(pdf_data)\n",
    "\n",
    "        print(f\"✅ Guardado: {pdf_path}\")\n",
    "    except Exception as e:\n",
    "        print(f\"⚠️ Error en {url}: {e}\")\n",
    "\n",
    "# driver.quit()  # Si quieres cerrar el navegador al final"
   ]
  },
  {
   "cell_type": "code",
   "execution_count": null,
   "id": "7f1daa86-987d-4614-867b-af34036f052e",
   "metadata": {},
   "outputs": [],
   "source": []
  }
 ],
 "metadata": {
  "kernelspec": {
   "display_name": "Python [conda env:base] *",
   "language": "python",
   "name": "conda-base-py"
  },
  "language_info": {
   "codemirror_mode": {
    "name": "ipython",
    "version": 3
   },
   "file_extension": ".py",
   "mimetype": "text/x-python",
   "name": "python",
   "nbconvert_exporter": "python",
   "pygments_lexer": "ipython3",
   "version": "3.13.5"
  }
 },
 "nbformat": 4,
 "nbformat_minor": 5
}
